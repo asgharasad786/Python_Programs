{
 "cells": [
  {
   "cell_type": "code",
   "execution_count": 14,
   "id": "38606bde",
   "metadata": {},
   "outputs": [
    {
     "name": "stdout",
     "output_type": "stream",
     "text": [
      "Welcome to Temperature Conversion program\n",
      "\n",
      "1. Celsius to Fahrenheit\n",
      "2. Fahrenheit to Celsius\n",
      "\n",
      "Enter your choice: 2\n",
      "\n",
      "Enter the temperature in Fahrenheit: 4\n",
      "\n",
      "Temperature in Celsius is: -15.555555555555557\n"
     ]
    }
   ],
   "source": [
    "#Temperature Convertion Program\n",
    "print(\"Welcome to Temperature Conversion program\\n\")\n",
    "print(\"1. Celsius to Fahrenheit\")\n",
    "print(\"2. Fahrenheit to Celsius\")\n",
    "\n",
    "choice = input(\"\\nEnter your choice: \")\n",
    "\n",
    "if choice == '1':\n",
    "    tem_in_Celsius = float(input(\"\\nEnter the temperature in Celsius: \"))\n",
    "    if tem_in_Celsius < -273.15:  # Absolute zero, the lowest possible temperature\n",
    "        print(\"\\nWarning: Temperature value is below absolute zero!\")\n",
    "    else:\n",
    "        tem_in_Fahrenheit = ((9/5) * tem_in_Celsius) + 32\n",
    "        print(\"\\nTemperature in Fahrenheit is:\", tem_in_Fahrenheit)\n",
    "\n",
    "elif choice == '2':\n",
    "    tem_in_Fahrenheit = float(input(\"\\nEnter the temperature in Fahrenheit: \"))\n",
    "    if tem_in_Fahrenheit < -459.67:  # Absolute zero in Fahrenheit scale\n",
    "        print(\"\\nWarning: Temperature value is below absolute zero!\")\n",
    "    else:\n",
    "        tem_in_Celsius = (5/9) * (tem_in_Fahrenheit - 32)\n",
    "        print(\"\\nTemperature in Celsius is:\", tem_in_Celsius)\n",
    "        \n",
    "else:\n",
    "    print(\"\\nInvalid Choice, Please Enter 1 or 2\")\n"
   ]
  },
  {
   "cell_type": "code",
   "execution_count": 62,
   "id": "3b98ed1a",
   "metadata": {},
   "outputs": [
    {
     "name": "stdout",
     "output_type": "stream",
     "text": [
      "\n",
      "    [a11    a12] \n",
      "A = \n",
      "    [a21    a22]\n",
      "\n",
      "Write matrix elements according to given position: \n",
      "\n",
      "Enter the value of a11: 5\n",
      "Enter the value of a12: 5\n",
      "Enter the value of a21: 6\n",
      "Enter the value of a21: 9\n",
      "\n",
      "Your Matrix is:\n",
      "\n",
      "    [ 5.0   5.0 ] \n",
      "A = \n",
      "    [ 6.0   9.0 ]\n",
      "\n",
      "Inverse of the Matrix is: \n",
      "\n",
      "      [ 0.6    -0.3333333333333333 ] \n",
      "A^-1 = \n",
      "      [ -0.4    0.3333333333333333 ]\n"
     ]
    }
   ],
   "source": [
    "#Matrix Inverse program\n",
    "print(\"\\n    [a11    a12] \\nA = \\n    [a21    a22]\")\n",
    "print(\"\\nWrite matrix elements according to given position: \")\n",
    "a11=float(input(\"\\n\"\"Enter the value of a11: \"))\n",
    "a12=float(input(\"Enter the value of a12: \"))\n",
    "a21=float(input(\"Enter the value of a21: \"))\n",
    "a22=float(input(\"Enter the value of a21: \"))\n",
    "print(\"\\nYour Matrix is:\")\n",
    "print(\"\\n    [\",a11,\" \",a12,\"]\",\"\\nA =\",\"\\n    [\",a21,\" \",a22,\"]\")\n",
    "\n",
    "det=(a11*a22)-(a21*a12)\n",
    "\n",
    "if det==0:\n",
    "    print(\"Inverse not exist:\")\n",
    "else:\n",
    "    print(\"\\nInverse of the Matrix is:\",\"\\n\\n      [\",(1/det)*a22,\"  \",(1/det)*(-a12),\"]\",\"\\nA^-1 =\",\"\\n      [\",(1/det)*(-a21),\"  \",(1/det)*(a11),\"]\")\n"
   ]
  },
  {
   "cell_type": "code",
   "execution_count": 59,
   "id": "a27921c0-a323-4686-ab6e-553aeff09931",
   "metadata": {
    "tags": []
   },
   "outputs": [
    {
     "name": "stdout",
     "output_type": "stream",
     "text": [
      "Welcome to Integration Problem Solving Program!\n",
      "\n",
      "a\n",
      " ∫ 𝓍^n d𝓍\n",
      "b\n",
      "\n",
      "Enter the upper limit (a): 2\n",
      "Enter the lower limit (b): 1\n",
      "Enter the power of 𝓍 (n) : 1\n",
      " \n",
      "2.0\n",
      "  ∫ 𝓍 ^ 1.0 = ?\n",
      "1.0\n",
      " \n",
      "2.0\n",
      "  ∫ 𝓍 ^ 2.0 = 1.5\n",
      "1.0\n"
     ]
    }
   ],
   "source": [
    "#integration program of any power of x\n",
    "print(\"Welcome to Integration Problem Solving Program!\\n\")\n",
    "print(\"a\")\n",
    "print(\" ∫\",\"𝓍^n d𝓍\")\n",
    "print(\"b\\n\")\n",
    "a=float(input(\"Enter the upper limit (a): \"))\n",
    "b=float(input(\"Enter the lower limit (b): \"))\n",
    "n=float(input(\"Enter the power of 𝓍 (n) : \"))\n",
    "p=n+1\n",
    "print(\" \")\n",
    "print(a)\n",
    "print(\"  ∫\",\"𝓍 ^\",n,\"=\",\"?\")\n",
    "print(b)\n",
    "integration=(((a)**p)/p)-(((b)**p)/p)\n",
    "print(\" \")\n",
    "print(a)\n",
    "print(\"  ∫\",\"𝓍 ^\",p,\"=\",integration)\n",
    "print(b)"
   ]
  }
 ],
 "metadata": {
  "kernelspec": {
   "display_name": "Python 3 (ipykernel)",
   "language": "python",
   "name": "python3"
  },
  "language_info": {
   "codemirror_mode": {
    "name": "ipython",
    "version": 3
   },
   "file_extension": ".py",
   "mimetype": "text/x-python",
   "name": "python",
   "nbconvert_exporter": "python",
   "pygments_lexer": "ipython3",
   "version": "3.11.5"
  },
  "toc-autonumbering": false,
  "toc-showtags": false
 },
 "nbformat": 4,
 "nbformat_minor": 5
}
